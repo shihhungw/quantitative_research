{
 "cells": [
  {
   "cell_type": "code",
   "execution_count": null,
   "id": "d536a4a0",
   "metadata": {},
   "outputs": [],
   "source": [
    "import os, shutil\n",
    "import pandas as pd\n",
    "import numpy  as np\n",
    "from tqdm import tqdm\n",
    "from WCFAdox import PCAX\n",
    "import matplotlib.pyplot as plt\n",
    "import matplotlib.dates as mdates\n",
    "from matplotlib.font_manager import FontProperties\n",
    "from tabulate import tabulate"
   ]
  },
  {
   "cell_type": "markdown",
   "id": "71d22c01",
   "metadata": {},
   "source": [
    "# Data (Download & Preprocessing)"
   ]
  },
  {
   "cell_type": "code",
   "execution_count": null,
   "id": "2c84fd8f",
   "metadata": {},
   "outputs": [],
   "source": [
    "# Transform date from YYYYMMDD to YYYY-MM-DD\n",
    "def date_transform(text):\n",
    "    date = text[:4] + '-' + text[4:6] + '-' + text[6:]\n",
    "    return date\n",
    "\n",
    "# Clear and recreate a folder\n",
    "def clear_construct_folder(foldername):\n",
    "    try:\n",
    "        shutil.rmtree(foldername)  # Remove folder if exists\n",
    "    except:\n",
    "        os.makedirs(foldername)    # Create folder if removal fails\n",
    "    else:\n",
    "        os.makedirs(foldername)    # Create folder after successful removal\n",
    "\n",
    "# Retrieve broker-specific transaction data\n",
    "def get_broker_data(startDate, endDate, stock, broker):\n",
    "    PX = PCAX(\"10.216.8.148\")\n",
    "    df = PX.Sil_Data(\"個股券商進出明細\", \"D\", stock, startDate, endDate, isst=\"Y\")\n",
    "    df = df[ df[\"券商名稱\"] == broker ]\n",
    "    df[\"日期\"] = df[\"日期\"].astype(str).apply(date_transform)\n",
    "    df = df.iloc[::-1]\n",
    "    df = df.reset_index(drop=True)\n",
    "    return df\n",
    "\n",
    "# Retrieve stock daily and odd-lot trading data\n",
    "def get_stock_data(startDate, endDate, stock):\n",
    "    PX = PCAX(\"10.216.8.148\")\n",
    "    df = PX.Sil_Data(\"日收盤表排行\", \"D\", stock, startDate, endDate, isst=\"Y\")\n",
    "    df[\"日期\"] = df[\"日期\"].astype(str).apply(date_transform)\n",
    "    df[\"日期\"] = pd.to_datetime(df[\"日期\"], format=\"%Y-%m-%d\", yearfirst=True)\n",
    "    df        = df.sort_values(by=\"日期\")\n",
    "    df[\"日期\"] = df[\"日期\"].dt.strftime(\"%Y-%m-%d\")\n",
    "\n",
    "    df1 = PX.Sil_Data(\"日盤後零股交易行情\", \"D\", stock, startDate, endDate, isst=\"Y\")\n",
    "    df1[\"日期\"] = df1[\"日期\"].astype(str).apply(date_transform)\n",
    "    df1[\"日期\"] = pd.to_datetime(df1[\"日期\"], format=\"%Y-%m-%d\", yearfirst=True)\n",
    "    df1        = df1.sort_values(by=\"日期\")\n",
    "    df1[\"日期\"] = df1[\"日期\"].dt.strftime(\"%Y-%m-%d\")\n",
    "    df1 = df1[ [\"日期\", \"成交股數\"] ]\n",
    "    \n",
    "    df  = pd.merge(df1, df, how=\"outer\", on=\"日期\")\n",
    "    df  = df.reset_index(drop=True)\n",
    "    return df"
   ]
  },
  {
   "cell_type": "markdown",
   "id": "b255fb1c",
   "metadata": {},
   "source": [
    "# Equity Value Calculation"
   ]
  },
  {
   "cell_type": "code",
   "execution_count": null,
   "id": "05174bcc",
   "metadata": {},
   "outputs": [],
   "source": [
    "# Simulate broker's equity based on trading behavior\n",
    "def broker_equity(df):\n",
    "    df1            = df.copy()\n",
    "    df1[\"holding\"] = 0\n",
    "    df1[\"cash\"]    = 0\n",
    "    df1[\"equity\"]  = 0\n",
    "    df1            = df1.apply(pd.to_numeric, errors='ignore')\n",
    "\n",
    "    for index, row in df1.iterrows():\n",
    "        if (index == 0):\n",
    "            continue\n",
    "        df1.loc[index, \"holding\"] = df1.loc[(index - 1), \"holding\"] + df1.loc[index, \"張增減\"]\n",
    "        df1.loc[index, \"cash\"]    = df1.loc[(index - 1), \"cash\"]    - df1.loc[index, \"買張\"] * df1.loc[index, \"買均價\"] + df1.loc[index, \"賣張\"] * df1.loc[index, \"賣均價\"]\n",
    "        df1.loc[index, \"equity\"]  = df1.loc[index, \"cash\"]          + df1.loc[index, \"holding\"] * df1.loc[index, \"收盤價\"]\n",
    "    return df1\n",
    "\n",
    "# Simulate strategy by tracking position and cash\n",
    "def calculation(df1):\n",
    "    df1[\"holding\"] = 0\n",
    "    df1[\"cash\"]    = 0\n",
    "    df1            = df1.apply(pd.to_numeric, errors='ignore')\n",
    "\n",
    "    for index, row in df1.iterrows():\n",
    "        if (index == 0):\n",
    "            continue\n",
    "        df1.loc[index, \"holding\"] = df1.loc[(index - 1), \"holding\"] + df1.loc[index, \"volume\"]\n",
    "        df1.loc[index, \"cash\"]    = df1.loc[(index - 1), \"cash\"]    - df1.loc[index, \"volume\"] * df1.loc[index, \"開盤價\"]\n",
    "    return df1\n",
    "\n",
    "# Build strategy summary table\n",
    "def strategy_sheet(df1):\n",
    "    s1            = df1[[\"日期\", \"開盤價\", \"最高價\", \"最低價\", \"收盤價\", \"volume\", \"holding\", \"cash\"]].copy()\n",
    "    s1[\"equity\"]  = s1[\"cash\"] + s1[\"holding\"] * s1[\"收盤價\"]\n",
    "    return s1"
   ]
  },
  {
   "cell_type": "markdown",
   "id": "6797f33b",
   "metadata": {},
   "source": [
    "# Strategy"
   ]
  },
  {
   "cell_type": "code",
   "execution_count": null,
   "id": "3ab5f3ac",
   "metadata": {},
   "outputs": [],
   "source": [
    "# Strategy: mimic previous day's net volume\n",
    "def strategy(df):\n",
    "    sName = \"模仿前一日買賣超\"\n",
    "\n",
    "    df1           = df.apply(pd.to_numeric, errors='ignore').copy()\n",
    "    df1[\"volume\"] = df1[\"張增減\"].shift(1, fill_value=0)\n",
    "\n",
    "    df1        = calculation(df1)\n",
    "    plot_sheet = strategy_sheet(df1)\n",
    "    return plot_sheet, sName\n",
    "\n",
    "# Plot broker vs. strategies equity curve\n",
    "def plot(folder, result_broker, result_strategy, name, stock, broker):\n",
    "    plt.figure(figsize=(20, 6))\n",
    "    font    = FontProperties(fname=r'NotoSansTC-Black.otf')\n",
    "    fig, ax = plt.subplots()\n",
    "\n",
    "    ax.set_xlabel ('日期', fontproperties=font, fontsize=10)\n",
    "    ax.set_ylabel ('千元', fontproperties=font, fontsize=10)\n",
    "\n",
    "    x      = result_broker[\"日期\"]\n",
    "    y1, y2 = result_broker[\"equity\"], result_strategy[\"equity\"]\n",
    "\n",
    "    ax.plot(x, y1, label=\"外資券商\",          color=\"darkorange\", linewidth=1)\n",
    "    ax.plot(x, y2, label=f\"交易策略-{name1}\", color=\"cadetblue\",  linewidth=3)\n",
    "\n",
    "    title = f\"{stock}_{broker}\"\n",
    "    plt.title  (title, fontproperties=font, fontsize=20)            # Chart title\n",
    "    plt.axhline(0, color='black', linestyle='--')\n",
    "    ax.legend (prop={'fname': 'NotoSansTC-Black.otf', 'size': 10})  # Legend\n",
    "\n",
    "    axes     = plt.gca()\n",
    "    interval = x.shape[0] // 4                                      # Set x-axis tick interval\n",
    "    axes.xaxis.set_major_locator(mdates.DayLocator(interval=interval))\n",
    "\n",
    "    addr = f\"{folder}\\\\{title}.png\"\n",
    "    plt.savefig(addr)\n",
    "    plt.clf()\n",
    "    plt.close(\"all\")"
   ]
  },
  {
   "cell_type": "markdown",
   "id": "b88538ac",
   "metadata": {},
   "source": [
    "# Example"
   ]
  },
  {
   "cell_type": "code",
   "execution_count": null,
   "id": "001de57c",
   "metadata": {},
   "outputs": [],
   "source": [
    "startDate = \"20220101\"\n",
    "endDate   = \"20221227\"\n",
    "\n",
    "brokers = [\"美林\", \"美商高盛\", \"摩根大通\", \"法銀巴黎\", \"新加坡商瑞銀\"]\n",
    "stocks  = [\"1229\", \"2409\", \"5009\", \"1304\", \"2498\", \"2615\"]\n",
    "folder  = \"C:\\\\Users\\\\user.Y220026097\\\\Desktop\\\\Equity\"\n",
    "clear_construct_folder(folder)\n",
    "\n",
    "for stock in tqdm(stocks):\n",
    "    df_stock = get_stock_data(startDate, endDate, stock)\n",
    "    folder = f\"C:\\\\Users\\\\user.Y220026097\\\\Desktop\\\\Equity\\\\{stock}\"\n",
    "    clear_construct_folder(folder)\n",
    "\n",
    "for broker in brokers:\n",
    "    df_broker = get_broker_data(startDate, endDate, stock, broker)\n",
    "    df        = pd.merge(df_broker, df_stock, how=\"outer\", on=\"日期\")\n",
    "\n",
    "    result_broker         = broker_equity(df)\n",
    "    result_strategy, name = strategy(df)\n",
    "    plot(folder, result_broker, result_strategy, name, stock, broker)"
   ]
  }
 ],
 "metadata": {
  "kernelspec": {
   "display_name": "Python 3 (ipykernel)",
   "language": "python",
   "name": "python3"
  },
  "language_info": {
   "codemirror_mode": {
    "name": "ipython",
    "version": 3
   },
   "file_extension": ".py",
   "mimetype": "text/x-python",
   "name": "python",
   "nbconvert_exporter": "python",
   "pygments_lexer": "ipython3",
   "version": "3.12.2"
  }
 },
 "nbformat": 4,
 "nbformat_minor": 5
}
