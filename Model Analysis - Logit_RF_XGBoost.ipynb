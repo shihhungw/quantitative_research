{
 "cells": [
  {
   "cell_type": "markdown",
   "id": "3b695a1b",
   "metadata": {},
   "source": [
    "# Structured Modeling Notebook\n",
    "This notebook is modularized into configuration, preprocessing, and three types of models."
   ]
  },
  {
   "cell_type": "markdown",
   "id": "75de8477",
   "metadata": {},
   "source": [
    "## Configuration"
   ]
  },
  {
   "cell_type": "code",
   "execution_count": null,
   "id": "b6137d4d",
   "metadata": {},
   "outputs": [],
   "source": [
    "broker = 'UBS'\n",
    "data_folder = './your_data_path_here'"
   ]
  },
  {
   "cell_type": "markdown",
   "id": "ec47fbdd",
   "metadata": {},
   "source": [
    "## Data Preprocessing"
   ]
  },
  {
   "cell_type": "code",
   "execution_count": null,
   "id": "1a20c504",
   "metadata": {},
   "outputs": [],
   "source": [
    "\n",
    "import pandas as pd\n",
    "import os\n",
    "\n",
    "def load_and_preprocess_data(broker, data_folder):\n",
    "    raw_folder = os.path.join(data_folder, \"raw data\")\n",
    "    stock_file = os.path.join(raw_folder, f\"stock_{broker}.xlsx\")\n",
    "    broker_file = os.path.join(raw_folder, f\"{broker}_{broker}.xlsx\")\n",
    "    treasury_file = os.path.join(data_folder, \"10year_treasury.xlsx\")\n",
    "\n",
    "    df1 = pd.read_excel(stock_file, engine=\"openpyxl\")\n",
    "    df2 = pd.read_excel(broker_file, engine=\"openpyxl\")\n",
    "    df3 = pd.read_excel(treasury_file, engine=\"openpyxl\")\n",
    "    df3[\"date\"] = pd.to_datetime(df3[\"date\"], format=\"%Y-%m-%d\", yearfirst=True)\n",
    "    df3[\"date\"] = df3[\"date\"].dt.strftime(\"%Y-%m-%d\")\n",
    "\n",
    "    df = pd.merge(df2, df1, on=[\"日期\"], how='outer')\n",
    "    # Add more cleaning if necessary\n",
    "    return df\n"
   ]
  },
  {
   "cell_type": "markdown",
   "id": "75402cd3",
   "metadata": {},
   "source": [
    "## Logistic and OLS Modeling"
   ]
  },
  {
   "cell_type": "code",
   "execution_count": null,
   "id": "6c54267a",
   "metadata": {},
   "outputs": [],
   "source": [
    "\n",
    "from sklearn.linear_model import LogisticRegression\n",
    "import statsmodels.api as sm\n",
    "\n",
    "def run_logistic_ols(df):\n",
    "    # Example: Binary label creation\n",
    "    df['label'] = (df['收盤價'] > df['收盤價'].shift(1)).astype(int)\n",
    "    df.dropna(inplace=True)\n",
    "\n",
    "    X = df[['開盤價', '最高價', '最低價']]\n",
    "    y = df['label']\n",
    "\n",
    "    # Logistic Regression\n",
    "    model_logit = LogisticRegression()\n",
    "    model_logit.fit(X, y)\n",
    "\n",
    "    # OLS model\n",
    "    X_ols = sm.add_constant(X)\n",
    "    model_ols = sm.OLS(df['收盤價'], X_ols).fit()\n",
    "\n",
    "    return model_logit, model_ols\n"
   ]
  },
  {
   "cell_type": "markdown",
   "id": "c2844114",
   "metadata": {},
   "source": [
    "## Random Forest Modeling"
   ]
  },
  {
   "cell_type": "code",
   "execution_count": null,
   "id": "2185f781",
   "metadata": {},
   "outputs": [],
   "source": [
    "\n",
    "from sklearn.ensemble import RandomForestClassifier\n",
    "from sklearn.model_selection import train_test_split\n",
    "\n",
    "def run_random_forest(df):\n",
    "    df['label'] = (df['收盤價'] > df['收盤價'].shift(1)).astype(int)\n",
    "    df.dropna(inplace=True)\n",
    "\n",
    "    X = df[['開盤價', '最高價', '最低價']]\n",
    "    y = df['label']\n",
    "\n",
    "    X_train, X_test, y_train, y_test = train_test_split(X, y, test_size=0.2, random_state=42)\n",
    "    rf = RandomForestClassifier(n_estimators=100, random_state=42)\n",
    "    rf.fit(X_train, y_train)\n",
    "\n",
    "    return rf, X_test, y_test\n"
   ]
  },
  {
   "cell_type": "markdown",
   "id": "9a5b1111",
   "metadata": {},
   "source": [
    "## XGBoost Modeling"
   ]
  },
  {
   "cell_type": "code",
   "execution_count": null,
   "id": "7bbf22dd",
   "metadata": {},
   "outputs": [],
   "source": [
    "\n",
    "from xgboost import XGBClassifier\n",
    "from sklearn.model_selection import train_test_split\n",
    "from sklearn.metrics import accuracy_score\n",
    "\n",
    "def run_xgboost(df):\n",
    "    df['label'] = (df['收盤價'] > df['收盤價'].shift(1)).astype(int)\n",
    "    df.dropna(inplace=True)\n",
    "\n",
    "    X = df[['開盤價', '最高價', '最低價']]\n",
    "    y = df['label']\n",
    "\n",
    "    X_train, X_test, y_train, y_test = train_test_split(X, y, test_size=0.2, random_state=42)\n",
    "    model = XGBClassifier(n_estimators=100, use_label_encoder=False, eval_metric='logloss', random_state=42)\n",
    "    model.fit(X_train, y_train)\n",
    "\n",
    "    y_pred = model.predict(X_test)\n",
    "    acc = accuracy_score(y_test, y_pred)\n",
    "\n",
    "    return model, X_test, y_test, acc\n",
    "\n"
   ]
  },
  {
   "cell_type": "markdown",
   "id": "8b67befe",
   "metadata": {},
   "source": [
    "## Run All Models"
   ]
  },
  {
   "cell_type": "code",
   "execution_count": null,
   "id": "d9398ba3",
   "metadata": {},
   "outputs": [],
   "source": [
    "\n",
    "# Load data\n",
    "df = load_and_preprocess_data(broker, data_folder)\n",
    "\n",
    "# Run models\n",
    "logit_model, ols_model           = run_logistic_ols(df)\n",
    "rf_model,  X_test, y_test        = run_random_forest(df)\n",
    "xgb_model, X_xgb, y_xgb, xgb_acc = run_xgboost(df)\n"
   ]
  },
  {
   "cell_type": "code",
   "execution_count": null,
   "id": "6470e83e",
   "metadata": {},
   "outputs": [],
   "source": [
    "# Show summary for OLS\n",
    "print(ols_model.summary())\n",
    "\n",
    "# Show summary for Random Forest\n",
    "print(f\"Random Forest Accuracy: {rf_acc:.4f}\")\n",
    "\n",
    "# Show summary for XGBoost\n",
    "print(f\"XGBoost Accuracy: {xgb_acc:.4f}\")"
   ]
  },
  {
   "cell_type": "markdown",
   "id": "d46645fe",
   "metadata": {},
   "source": [
    "## Confusion Matrix"
   ]
  },
  {
   "cell_type": "code",
   "execution_count": null,
   "id": "22598034",
   "metadata": {},
   "outputs": [],
   "source": [
    "from sklearn.metrics import confusion_matrix\n",
    "import seaborn as sns\n",
    "import matplotlib.pyplot as plt\n",
    "\n",
    "def plot_confmat(y_true, y_pred, title=\"Confusion Matrix\"):\n",
    "    cm = confusion_matrix(y_true, y_pred)\n",
    "    sns.heatmap(cm, annot=True, fmt='d', cmap='Blues')\n",
    "    plt.title(title)\n",
    "    plt.xlabel('Predicted')\n",
    "    plt.ylabel('Actual')\n",
    "    plt.tight_layout()\n",
    "    plt.show()"
   ]
  },
  {
   "cell_type": "code",
   "execution_count": null,
   "id": "01c38dd2",
   "metadata": {},
   "outputs": [],
   "source": [
    "plot_confmat(y_rf, rf_model.predict(X_rf), title=\"Random Forest\")\n",
    "plot_confmat(y_xgb, xgb_model.predict(X_xgb), title=\"XGBoost\")"
   ]
  }
 ],
 "metadata": {
  "kernelspec": {
   "display_name": "Python 3 (ipykernel)",
   "language": "python",
   "name": "python3"
  },
  "language_info": {
   "codemirror_mode": {
    "name": "ipython",
    "version": 3
   },
   "file_extension": ".py",
   "mimetype": "text/x-python",
   "name": "python",
   "nbconvert_exporter": "python",
   "pygments_lexer": "ipython3",
   "version": "3.12.2"
  }
 },
 "nbformat": 4,
 "nbformat_minor": 5
}
